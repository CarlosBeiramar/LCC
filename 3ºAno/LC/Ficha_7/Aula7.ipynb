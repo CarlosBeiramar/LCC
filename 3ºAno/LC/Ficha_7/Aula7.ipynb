{
 "cells": [
  {
   "cell_type": "markdown",
   "metadata": {},
   "source": [
    "### Inversão de circuitos boleanos\n",
    "\n",
    "### Cifras simétricas\n",
    "\n",
    "Numa cifra simétrica usa-se a mesma chave secreta para cifrar e decifrar. Uma forma típica de construir uma cifra simétrica consiste em usar a chave como semente num circuito boleano que gera uma sequência pseudo-aleatória de bits, designada *keystream*, que depois é combinada usando gates XOR com o texto em claro, por forma a obter um criptograma. Para decifrar o criptograma e voltar a obter o texto em claro faz-se exactamente o mesmo procedimento. Estas cifras são designadas por *cifras sequenciais*. Mais informação em https://en.wikipedia.org/wiki/Stream_cipher. Toda a segurança destas cifras assenta na dificuldade computacional de inverter o circuito que gera a *keystream*, pois se não fosse esse o caso, se um atacante tivesse acesso ao texto claro correspondente a um criptograma poderia facilmente obter a respectiva chave secreta.\n",
    "\n",
    "### Salsa20\n",
    "\n",
    "Uma das cifras simétricas mais populares hoje em dia é o Salsa20 - https://en.wikipedia.org/wiki/Salsa20. Nesta cifra o circuito que gera a *keystream* é constituido por várias iterações de um circuito mais simples designado *quarter-round*, que, dado um vector de 128 bits dividido em 4 inteiros de 32 bits `a`,`b`,`c` e `d`, realiza a seguinte transformação:\n",
    "\n",
    "```\n",
    "b = b ^ ((a + d) <<< 7);\n",
    "c = c ^ ((b + a) <<< 9);\n",
    "d = d ^ ((c + b) <<< 13);\n",
    "a = a ^ ((d + c) <<< 18);\n",
    "```\n",
    "\n",
    "Nestas transformações `^` representa o XOR bit a bit, `+` a adição módulo 32 e `<<<` é a operação de rotação para a esquerda.\n",
    "\n",
    "Em Python podemos implementar o circuito *quarter-round* da seguinte forma. A função `qr` aceita uma string de 128 caracteres `0` e `1` e produz como resultado uma destas strings. Desta string são extraídos os 4 inteiros de 32 bits, sobre as quais são realizadas as operações acima referidas. Como os inteiros em Python são de precisão ilimitada, as operações modulares tem que ser implementadas explicitamente. Como o Python também não possui a operação de rotação, a mesma é realizada à custa de operações de shift e da disjunção bit a bit."
   ]
  },
  {
   "cell_type": "code",
   "execution_count": 2,
   "metadata": {},
   "outputs": [
    {
     "data": {
      "text/plain": [
       "'11111111111110101000000000100011000000000000000000000000100000001111111111111100111111111111111100001010101001010101010101010101'"
      ]
     },
     "execution_count": 2,
     "metadata": {},
     "output_type": "execute_result"
    }
   ],
   "source": [
    "# dada uma string de 32 bits ('0' ou '1') devolve o inteiro respectivo\n",
    "def fromBin(a):\n",
    "    r = 0\n",
    "    for i in range(32):\n",
    "        r = 2*r\n",
    "        if (a[i]=='1'):\n",
    "            r = r+1\n",
    "    return r\n",
    "\n",
    "# dado um inteiro devolve a string de 32 bits ('0' ou '1') com a sua representação\n",
    "def toBin(a):\n",
    "    r = []\n",
    "    for _ in range(32):\n",
    "        r.insert(0,'1' if a%2==1 else '0')\n",
    "        a = a//2\n",
    "    return ''.join(r)\n",
    "\n",
    "# função auxiliar que implementa (a+b) <<< n\n",
    "def ar(a,b,n):\n",
    "    c = (a+b)%(2**32)\n",
    "    return ((c << n)%(2**32) | (c >> 32-n))\n",
    "    \n",
    "# dada uma string de 128 bits calcula o resultado da operação quarter-round\n",
    "def qr(v):\n",
    "    a = fromBin(v[0:32])\n",
    "    b = fromBin(v[32:64])\n",
    "    c = fromBin(v[64:96])\n",
    "    d = fromBin(v[96:128])\n",
    "    b = b ^ ar(a,d,7)\n",
    "    c = c ^ ar(b,a,9)\n",
    "    d = d ^ ar(c,b,13)\n",
    "    a = a ^ ar(d,c,18)\n",
    "    return toBin(a)+toBin(b)+toBin(c)+toBin(d)\n",
    "   \n",
    "texto = '10'*64\n",
    "qr(texto)"
   ]
  },
  {
   "cell_type": "markdown",
   "metadata": {},
   "source": [
    "Nesta aula vamos usar o Z3 para precisamente tentar inverter esta função, ou seja, dado um valor de output determinar qual o valor de input que dá origem a esse resultado. Em primeiro lugar vamos tentar modelar este problema usando lógica proposicional. Para tal é conveniente perceber como pode ser implementada a função anterior usando directamente sequências de bits em vez de operações sobre inteiros. A função `qr_bs` apresentada a seguir faz essa implementação."
   ]
  },
  {
   "cell_type": "markdown",
   "metadata": {},
   "source": [
    "### Exercício 1\n",
    "\n",
    "Implemente as funções auxiliares `xor32`, `rotate32` e `soma32` que implementam as operações de xor, rotação para a esquerda e soma modular sobre sequências de 32 booleanos."
   ]
  },
  {
   "cell_type": "code",
   "execution_count": 3,
   "metadata": {},
   "outputs": [
    {
     "data": {
      "text/plain": [
       "'01010101010101010101010101010101010101010101010101010101010101010101010101010101010101010101010101010101010101010101010101010101'"
      ]
     },
     "execution_count": 3,
     "metadata": {},
     "output_type": "execute_result"
    }
   ],
   "source": [
    "def xor32(a,b):\n",
    "    return [a[i] != b[i] for i in range(32)]\n",
    "    \n",
    "    \n",
    "def rotate32(a,n):\n",
    "    return [a[(n+1)%32] for i in range(32)]  \n",
    "    \n",
    "\n",
    "def soma32(b,c):\n",
    "    carry = False\n",
    "    x = []\n",
    "    for i in range(31,-1,-1):\n",
    "        soma = (b[i] != c[i]) != carry\n",
    "        carry = [b[i] and c[i] or (carry and (b[i] or c[i]))]\n",
    "        x.insert(0,soma)\n",
    "    return x\n",
    "    \n",
    "\n",
    "def ar_bs(a,b,n):\n",
    "    c = soma32(a,b)\n",
    "    return rotate32(c,n)\n",
    "\n",
    "def qr_bs(v):\n",
    "    x = list(map(lambda y: y=='1',v))\n",
    "    a = x[0:32]\n",
    "    b = x[32:64]\n",
    "    c = x[64:96]\n",
    "    d = x[96:128]\n",
    "    b = xor32(b,ar_bs(a,d,7))\n",
    "    c = xor32(c,ar_bs(b,a,9))\n",
    "    d = xor32(d,ar_bs(c,b,13))\n",
    "    a = xor32(a,ar_bs(d,c,18))\n",
    "    r = a+b+c+d\n",
    "    return ''.join(map(lambda y: '1' if y else '0',r))\n",
    "\n",
    "texto = '10'*64\n",
    "qr_bs(texto)"
   ]
  },
  {
   "cell_type": "markdown",
   "metadata": {},
   "source": [
    "## Modelação com lógica proposicional\n",
    "\n",
    "Para inverter a função `qr_bs` usando lógica proposicional podemos começar por criar uma sequência de 128 variáveis proposicionais correspondentes ao input da função, depois \"executamos\" o *quarter-round* sobre essas variáveis e, finalmente, adicionamos restrições que forçam o output a ser o valor recebido. A função `inv_qr_bs` implementa esta estratégia."
   ]
  },
  {
   "cell_type": "markdown",
   "metadata": {},
   "source": [
    "### Exercício 2\n",
    "\n",
    "Implemente as funções auxiliares `xor32_z3`, `rotate32_z3` e `soma32_z3` que implementam as operações de xor, rotação para a esquerda e soma modular sobre sequências de 32 expressões booleanas do Z3. Relembre o tutorial do Z3Py disponível em https://ericpony.github.io/z3py-tutorial/guide-examples.htm"
   ]
  },
  {
   "cell_type": "code",
   "execution_count": 12,
   "metadata": {},
   "outputs": [
    {
     "ename": "TypeError",
     "evalue": "unsupported operand type(s) for <<: 'list' and 'int'",
     "output_type": "error",
     "traceback": [
      "\u001b[0;31m---------------------------------------------------------------------------\u001b[0m",
      "\u001b[0;31mTypeError\u001b[0m                                 Traceback (most recent call last)",
      "\u001b[0;32m<ipython-input-12-c3995479502c>\u001b[0m in \u001b[0;36m<module>\u001b[0;34m\u001b[0m\n\u001b[1;32m     40\u001b[0m \u001b[0;34m\u001b[0m\u001b[0m\n\u001b[1;32m     41\u001b[0m \u001b[0mtexto\u001b[0m \u001b[0;34m=\u001b[0m \u001b[0;34m'10'\u001b[0m\u001b[0;34m*\u001b[0m\u001b[0;36m64\u001b[0m\u001b[0;34m\u001b[0m\u001b[0;34m\u001b[0m\u001b[0m\n\u001b[0;32m---> 42\u001b[0;31m \u001b[0minv_qr_bs\u001b[0m\u001b[0;34m(\u001b[0m\u001b[0mqr_bs\u001b[0m\u001b[0;34m(\u001b[0m\u001b[0mtexto\u001b[0m\u001b[0;34m)\u001b[0m\u001b[0;34m)\u001b[0m\u001b[0;34m\u001b[0m\u001b[0;34m\u001b[0m\u001b[0m\n\u001b[0m",
      "\u001b[0;32m<ipython-input-12-c3995479502c>\u001b[0m in \u001b[0;36minv_qr_bs\u001b[0;34m(v)\u001b[0m\n\u001b[1;32m     27\u001b[0m     \u001b[0mc\u001b[0m \u001b[0;34m=\u001b[0m \u001b[0mx\u001b[0m\u001b[0;34m[\u001b[0m\u001b[0;36m64\u001b[0m\u001b[0;34m:\u001b[0m\u001b[0;36m96\u001b[0m\u001b[0;34m]\u001b[0m\u001b[0;34m\u001b[0m\u001b[0;34m\u001b[0m\u001b[0m\n\u001b[1;32m     28\u001b[0m     \u001b[0md\u001b[0m \u001b[0;34m=\u001b[0m \u001b[0mx\u001b[0m\u001b[0;34m[\u001b[0m\u001b[0;36m96\u001b[0m\u001b[0;34m:\u001b[0m\u001b[0;36m128\u001b[0m\u001b[0;34m]\u001b[0m\u001b[0;34m\u001b[0m\u001b[0;34m\u001b[0m\u001b[0m\n\u001b[0;32m---> 29\u001b[0;31m     \u001b[0mb\u001b[0m \u001b[0;34m=\u001b[0m \u001b[0mxor32_z3\u001b[0m\u001b[0;34m(\u001b[0m\u001b[0mb\u001b[0m\u001b[0;34m,\u001b[0m\u001b[0mar_bs_z3\u001b[0m\u001b[0;34m(\u001b[0m\u001b[0ma\u001b[0m\u001b[0;34m,\u001b[0m\u001b[0md\u001b[0m\u001b[0;34m,\u001b[0m\u001b[0;36m7\u001b[0m\u001b[0;34m)\u001b[0m\u001b[0;34m)\u001b[0m\u001b[0;34m\u001b[0m\u001b[0;34m\u001b[0m\u001b[0m\n\u001b[0m\u001b[1;32m     30\u001b[0m     \u001b[0mc\u001b[0m \u001b[0;34m=\u001b[0m \u001b[0mxor32_z3\u001b[0m\u001b[0;34m(\u001b[0m\u001b[0mc\u001b[0m\u001b[0;34m,\u001b[0m\u001b[0mar_bs_z3\u001b[0m\u001b[0;34m(\u001b[0m\u001b[0mb\u001b[0m\u001b[0;34m,\u001b[0m\u001b[0ma\u001b[0m\u001b[0;34m,\u001b[0m\u001b[0;36m9\u001b[0m\u001b[0;34m)\u001b[0m\u001b[0;34m)\u001b[0m\u001b[0;34m\u001b[0m\u001b[0;34m\u001b[0m\u001b[0m\n\u001b[1;32m     31\u001b[0m     \u001b[0md\u001b[0m \u001b[0;34m=\u001b[0m \u001b[0mxor32_z3\u001b[0m\u001b[0;34m(\u001b[0m\u001b[0md\u001b[0m\u001b[0;34m,\u001b[0m\u001b[0mar_bs_z3\u001b[0m\u001b[0;34m(\u001b[0m\u001b[0mc\u001b[0m\u001b[0;34m,\u001b[0m\u001b[0mb\u001b[0m\u001b[0;34m,\u001b[0m\u001b[0;36m13\u001b[0m\u001b[0;34m)\u001b[0m\u001b[0;34m)\u001b[0m\u001b[0;34m\u001b[0m\u001b[0;34m\u001b[0m\u001b[0m\n",
      "\u001b[0;32m<ipython-input-12-c3995479502c>\u001b[0m in \u001b[0;36mar_bs_z3\u001b[0;34m(a, b, n)\u001b[0m\n\u001b[1;32m     19\u001b[0m \u001b[0;32mdef\u001b[0m \u001b[0mar_bs_z3\u001b[0m\u001b[0;34m(\u001b[0m\u001b[0ma\u001b[0m\u001b[0;34m,\u001b[0m\u001b[0mb\u001b[0m\u001b[0;34m,\u001b[0m\u001b[0mn\u001b[0m\u001b[0;34m)\u001b[0m\u001b[0;34m:\u001b[0m\u001b[0;34m\u001b[0m\u001b[0;34m\u001b[0m\u001b[0m\n\u001b[1;32m     20\u001b[0m     \u001b[0mc\u001b[0m \u001b[0;34m=\u001b[0m \u001b[0msoma32_z3\u001b[0m\u001b[0;34m(\u001b[0m\u001b[0ma\u001b[0m\u001b[0;34m,\u001b[0m\u001b[0mb\u001b[0m\u001b[0;34m)\u001b[0m\u001b[0;34m\u001b[0m\u001b[0;34m\u001b[0m\u001b[0m\n\u001b[0;32m---> 21\u001b[0;31m     \u001b[0;32mreturn\u001b[0m \u001b[0mrotate32_z3\u001b[0m\u001b[0;34m(\u001b[0m\u001b[0mc\u001b[0m\u001b[0;34m,\u001b[0m\u001b[0mn\u001b[0m\u001b[0;34m)\u001b[0m\u001b[0;34m\u001b[0m\u001b[0;34m\u001b[0m\u001b[0m\n\u001b[0m\u001b[1;32m     22\u001b[0m \u001b[0;34m\u001b[0m\u001b[0m\n\u001b[1;32m     23\u001b[0m \u001b[0;32mdef\u001b[0m \u001b[0minv_qr_bs\u001b[0m\u001b[0;34m(\u001b[0m\u001b[0mv\u001b[0m\u001b[0;34m)\u001b[0m\u001b[0;34m:\u001b[0m\u001b[0;34m\u001b[0m\u001b[0;34m\u001b[0m\u001b[0m\n",
      "\u001b[0;32m<ipython-input-12-c3995479502c>\u001b[0m in \u001b[0;36mrotate32_z3\u001b[0;34m(a, n)\u001b[0m\n\u001b[1;32m      5\u001b[0m \u001b[0;34m\u001b[0m\u001b[0m\n\u001b[1;32m      6\u001b[0m \u001b[0;32mdef\u001b[0m \u001b[0mrotate32_z3\u001b[0m\u001b[0;34m(\u001b[0m\u001b[0ma\u001b[0m\u001b[0;34m,\u001b[0m\u001b[0mn\u001b[0m\u001b[0;34m)\u001b[0m\u001b[0;34m:\u001b[0m\u001b[0;34m\u001b[0m\u001b[0;34m\u001b[0m\u001b[0m\n\u001b[0;32m----> 7\u001b[0;31m     \u001b[0;32mreturn\u001b[0m \u001b[0;34m(\u001b[0m\u001b[0;34m(\u001b[0m\u001b[0ma\u001b[0m \u001b[0;34m<<\u001b[0m \u001b[0mn\u001b[0m\u001b[0;34m)\u001b[0m \u001b[0;34m|\u001b[0m \u001b[0mLShR\u001b[0m\u001b[0;34m(\u001b[0m\u001b[0ma\u001b[0m\u001b[0;34m,\u001b[0m\u001b[0;36m32\u001b[0m\u001b[0;34m-\u001b[0m\u001b[0mn\u001b[0m\u001b[0;34m)\u001b[0m\u001b[0;34m)\u001b[0m\u001b[0;34m\u001b[0m\u001b[0;34m\u001b[0m\u001b[0m\n\u001b[0m\u001b[1;32m      8\u001b[0m \u001b[0;34m\u001b[0m\u001b[0m\n\u001b[1;32m      9\u001b[0m \u001b[0;34m\u001b[0m\u001b[0m\n",
      "\u001b[0;31mTypeError\u001b[0m: unsupported operand type(s) for <<: 'list' and 'int'"
     ]
    }
   ],
   "source": [
    "from z3 import *\n",
    "\n",
    "def xor32_z3(a,b):\n",
    "    return [Xor(a[i],b[i]) for i in range(32)]\n",
    "    \n",
    "def rotate32_z3(a,n):\n",
    "    return ((a << n) | LShR(a,32-n))\n",
    "\n",
    "\n",
    "def soma32_z3(b,c):\n",
    "    carry = False\n",
    "    x = []\n",
    "    for i in range(31,-1,-1):\n",
    "        soma = Xor(Xor(b[i],c[i]),carry)\n",
    "        carry = Or((And(b[i],c[i])),And(carry,Or(b[i],c[i])))\n",
    "        x.insert(0,soma)\n",
    "    return x\n",
    "    \n",
    "def ar_bs_z3(a,b,n):\n",
    "    c = soma32_z3(a,b)\n",
    "    return rotate32_z3(c,n)\n",
    "\n",
    "def inv_qr_bs(v):\n",
    "    x = [Bool(str(i)) for i in range(128)]\n",
    "    a = x[0:32]\n",
    "    b = x[32:64]\n",
    "    c = x[64:96]\n",
    "    d = x[96:128]\n",
    "    b = xor32_z3(b,ar_bs_z3(a,d,7))\n",
    "    c = xor32_z3(c,ar_bs_z3(b,a,9))\n",
    "    d = xor32_z3(d,ar_bs_z3(c,b,13))\n",
    "    a = xor32_z3(a,ar_bs_z3(d,c,18))\n",
    "    r = a+b+c+d\n",
    "    s = Solver()\n",
    "    for i in range(128):\n",
    "        s.add(r[i] == (v[i]=='1'))\n",
    "    if s.check() == sat:\n",
    "        m = s.model()\n",
    "        return ''.join(['1' if m[x[i]] else '0' for i in range(128)])\n",
    "\n",
    "texto = '10'*64\n",
    "inv_qr_bs(qr_bs(texto))"
   ]
  },
  {
   "cell_type": "markdown",
   "metadata": {},
   "source": [
    "## Modelação com SAT módulo teoria de *bit vectors*\n",
    "\n",
    "A aritmética sobre inteiros de precisão limitada é decidivel. Esta teoria é usalmente conhecida por teoria de *bit vectors* e pode ser utilizada em conjunto com a lógica proposicional em Z3. Com esta teoria podemos tentar inverter directamente a função `qr` apresentada no início deste notebook. A função `inv_qr` definida a seguir implementa essa inversão."
   ]
  },
  {
   "cell_type": "markdown",
   "metadata": {},
   "source": [
    "### Exercício 3\n",
    "\n",
    "Implemente a função auxilar `ar_z3` que implementa a adição modular seguida de uma rotação para a esquerda usando *bit vectors* do Z3."
   ]
  },
  {
   "cell_type": "code",
   "execution_count": 9,
   "metadata": {},
   "outputs": [
    {
     "data": {
      "text/plain": [
       "'10101010101010101010101010101010101010101010101010101010101010101010101010101010101010101010101010101010101010101010101010101010'"
      ]
     },
     "execution_count": 9,
     "metadata": {},
     "output_type": "execute_result"
    }
   ],
   "source": [
    "def ar_z3(a,b,n):\n",
    "    c = (a+b)\n",
    "    return ((c << n) | LShR(c,32-n))\n",
    "    \n",
    "# função auxiliar que implementa (a+b) <<< n\n",
    "def ar(a,b,n):\n",
    "    c = (a+b)%(2**32)\n",
    "    return ((c << n)%(2**32) | (c >> 32-n))\n",
    "\n",
    "def inv_qr(v):\n",
    "    a,b,c,d = BitVecs('a b c d',32)\n",
    "    b_ = b ^ ar_z3(a,d,7)\n",
    "    c_ = c ^ ar_z3(b_,a,9)\n",
    "    d_ = d ^ ar_z3(c_,b_,13)\n",
    "    a_ = a ^ ar_z3(d_,c_,18)\n",
    "    s = Solver()\n",
    "    s.add(a_ == BitVecVal(fromBin(v[0:32]),32))\n",
    "    s.add(b_ == BitVecVal(fromBin(v[32:64]),32))\n",
    "    s.add(c_ == BitVecVal(fromBin(v[64:96]),32))\n",
    "    s.add(d_ == BitVecVal(fromBin(v[96:128]),32))\n",
    "    if s.check() == sat:\n",
    "        m = s.model()\n",
    "        return toBin(m[a].as_long())+toBin(m[b].as_long())+toBin(m[c].as_long())+toBin(m[d].as_long())\n",
    "\n",
    "texto = '10'*64\n",
    "inv_qr(qr(texto))"
   ]
  },
  {
   "cell_type": "markdown",
   "metadata": {},
   "source": [
    "### Exercício 4\n",
    "\n",
    "Muitos circuitos boleanos não são funções injectivas, ou seja, podem existir vários valores de input com o mesmo output. Se for usada uma função não injectiva para gerar uma *keystream* a partir da chave, para obter a chave por inversão poderemos necessitar de mais do que um criptograma e do respectivo texto em claro para poder desambiguar qual a chave secreta que está a ser utilizada. Modifique a função anterior para determinar todos os possíveis inputs que podem corresponder à inversão do resultado da função `qr`."
   ]
  },
  {
   "cell_type": "code",
   "execution_count": 10,
   "metadata": {},
   "outputs": [
    {
     "data": {
      "text/plain": [
       "['10101010101010101010101010101010101010101010101010101010101010101010101010101010101010101010101010101010101010101010101010101010']"
      ]
     },
     "execution_count": 10,
     "metadata": {},
     "output_type": "execute_result"
    }
   ],
   "source": [
    "def inv_qr(v):\n",
    "    a,b,c,d = BitVecs('a b c d',32)\n",
    "    b_ = b ^ ar_z3(a,d,7)\n",
    "    c_ = c ^ ar_z3(b_,a,9)\n",
    "    d_ = d ^ ar_z3(c_,b_,13)\n",
    "    a_ = a ^ ar_z3(d_,c_,18)\n",
    "    s = Solver()\n",
    "    s.add(a_ == BitVecVal(fromBin(v[0:32]),32))\n",
    "    s.add(b_ == BitVecVal(fromBin(v[32:64]),32))\n",
    "    s.add(c_ == BitVecVal(fromBin(v[64:96]),32))\n",
    "    s.add(d_ == BitVecVal(fromBin(v[96:128]),32))\n",
    "    \n",
    "    resp = []\n",
    "    \n",
    "    while s.check() == sat:\n",
    "        m = s.model()\n",
    "        resp.append(toBin(m[a].as_long())+toBin(m[b].as_long())+toBin(m[c].as_long())+toBin(m[d].as_long()))\n",
    "        s.add(Or(a != m[a], b!=m[b], c!=m[c],d!=m[d]))\n",
    "    return resp\n",
    "\n",
    "    \n",
    "    \n",
    "texto = '10'*64\n",
    "inv_qr(qr(texto))"
   ]
  },
  {
   "cell_type": "markdown",
   "metadata": {},
   "source": [
    "### Exercício 5\n",
    "\n",
    "Como deve ter verificado, para o input `'10'*64` não existe mais nenhum input tal que o resultado da função `qr` seja idêntico. Obviamente, isto não quer dizer que a função `qr` seja injectiva, pois poderá existir outro input para o qual haja uma *colisão* dos resultados. Usando o Z3 implemente uma função que testa se a função `qr` é injectiva, ou, caso não seja, apresente um par de inputs diferentes com o mesmo resultado."
   ]
  },
  {
   "cell_type": "code",
   "execution_count": 11,
   "metadata": {},
   "outputs": [
    {
     "name": "stdout",
     "output_type": "stream",
     "text": [
      "qr é injetiva\n"
     ]
    }
   ],
   "source": [
    "def find_colision():\n",
    "    ax,bx,cx,dx = BitVecs('a b c d',32)\n",
    "    ay,by,cy,dy = BitVecs('a b c d',32)\n",
    "    bx_ = bx ^ ar_z3(ax,dx,7)\n",
    "    cx_ = cx ^ ar_z3(bx_,ax,9)\n",
    "    dx_ = dx ^ ar_z3(cx_,bx_,13)\n",
    "    ax_ = ax ^ ar_z3(dx_,cx_,18)\n",
    "    by_ = by ^ ar_z3(ay,dy,7)\n",
    "    cy_ = cy ^ ar_z3(by_,ay,9)\n",
    "    dy_ = dy ^ ar_z3(cy_,by_,13)\n",
    "    ay_ = ay ^ ar_z3(dy_,cy_,18)\n",
    "    \n",
    "    s = Solver()\n",
    "    s.add(ax_ == ay_)\n",
    "    s.add(bx_ == by_)\n",
    "    s.add(cx_ == cy_)\n",
    "    s.add(dx_ == dy_)\n",
    "    s.add(Or(ax != ay, bx != by, cx != cy, dx != dy))\n",
    "    \n",
    "    if s.check() == sat:\n",
    "        m = s.model()\n",
    "        print(toBin(m[ax].as_long())+toBin(m[bx].as_long())+toBin(m[cx].as_long())+toBin(m[dx].as_long()))\n",
    "        print(toBin(m[ay].as_long())+toBin(m[by].as_long())+toBin(m[cy].as_long())+toBin(m[dy].as_long()))\n",
    "        \n",
    "    if s.check() == unsat:\n",
    "        print(\"qr é injetiva\")\n",
    "        \n",
    "find_colision()"
   ]
  },
  {
   "cell_type": "code",
   "execution_count": 8,
   "metadata": {},
   "outputs": [],
   "source": [
    "from networkx import dag_to_branching\n",
    "from networkx import DiGraph\n",
    "from networkx import nx\n",
    "from networkx.utils import arbitrary_element\n",
    "\n",
    "def circuit_to_formula(circuit):\n",
    "    # Convert the circuit to an equivalent formula.\n",
    "    formula = dag_to_branching(circuit)\n",
    "    # Transfer the operator or variable labels for each node from the\n",
    "    # circuit to the formula.\n",
    "    for v in formula:\n",
    "        source = formula.nodes[v][\"source\"]\n",
    "        formula.nodes[v][\"label\"] = circuit.nodes[source][\"label\"]\n",
    "    return formula\n",
    "\n",
    "\n",
    "def formula_to_string(formula):\n",
    "    def _to_string(formula, root):\n",
    "        # If there are no children, this is a variable node.\n",
    "        label = formula.nodes[root][\"label\"]\n",
    "        if not formula[root]:\n",
    "            return label\n",
    "        # Otherwise, this is an operator.\n",
    "        children = formula[root]\n",
    "        # If one child, the label must be a NOT operator.\n",
    "        if len(children) == 1:\n",
    "            child = arbitrary_element(children)\n",
    "            return f\"{label}({_to_string(formula, child)})\"\n",
    "        # NB \"left\" and \"right\" here are a little misleading: there is\n",
    "        # no order on the children of a node. That's okay because the\n",
    "        # Boolean AND and OR operators are symmetric. It just means that\n",
    "        # the order of the operands cannot be predicted and hence the\n",
    "        # function does not necessarily behave the same way on every\n",
    "        # invocation.\n",
    "        left, right = formula[root]\n",
    "        left_subformula = _to_string(formula, left)\n",
    "        right_subformula = _to_string(formula, right)\n",
    "        return f\"({left_subformula} {label} {right_subformula})\"\n",
    "\n",
    "    root = next(v for v, d in formula.in_degree() if d == 0)\n",
    "    return _to_string(formula, root)"
   ]
  },
  {
   "cell_type": "code",
   "execution_count": 12,
   "metadata": {},
   "outputs": [
    {
     "name": "stdout",
     "output_type": "stream",
     "text": [
      "((x ∨ y) ∧ (y ∨ ¬(z)))\n"
     ]
    },
    {
     "data": {
      "image/png": "[encoded data removed]",
      "text/plain": [
       "<Figure size 432x288 with 1 Axes>"
      ]
     },
     "metadata": {},
     "output_type": "display_data"
    }
   ],
   "source": [
    "\n",
    "circuit = DiGraph()\n",
    "# Layer 0\n",
    "circuit.add_node(0, label=\"∧\")\n",
    "# Layer 1\n",
    "circuit.add_node(1, label=\"∨\")\n",
    "circuit.add_node(2, label=\"∨\")\n",
    "circuit.add_edge(0, 1)\n",
    "circuit.add_edge(0, 2)\n",
    "# Layer 2\n",
    "circuit.add_node(3, label=\"x\")\n",
    "circuit.add_node(4, label=\"y\")\n",
    "circuit.add_node(5, label=\"¬\")\n",
    "circuit.add_edge(1, 3)\n",
    "circuit.add_edge(1, 4)\n",
    "circuit.add_edge(2, 4)\n",
    "circuit.add_edge(2, 5)\n",
    "# Layer 3\n",
    "circuit.add_node(6, label=\"z\")\n",
    "circuit.add_edge(5, 6)\n",
    "# Convert the circuit to an equivalent formula.\n",
    "nx.draw(circuit, with_labels = True)\n",
    "\n",
    "formula = circuit_to_formula(circuit)\n",
    "print(formula_to_string(formula))"
   ]
  },
  {
   "cell_type": "code",
   "execution_count": null,
   "metadata": {},
   "outputs": [],
   "source": []
  }
 ],
 "metadata": {
  "kernelspec": {
   "display_name": "Python 3",
   "language": "python",
   "name": "python3"
  },
  "language_info": {
   "codemirror_mode": {
    "name": "ipython",
    "version": 3
   },
   "file_extension": ".py",
   "mimetype": "text/x-python",
   "name": "python",
   "nbconvert_exporter": "python",
   "pygments_lexer": "ipython3",
   "version": "3.8.3"
  }
 },
 "nbformat": 4,
 "nbformat_minor": 2
}
