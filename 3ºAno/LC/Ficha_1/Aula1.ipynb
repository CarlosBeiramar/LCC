{
 "cells": [
  {
   "cell_type": "markdown",
   "metadata": {},
   "source": [
    "# Revisões de Python e grafos"
   ]
  },
  {
   "cell_type": "markdown",
   "metadata": {},
   "source": [
    "Um grafo *orientado* e *não pesado* é um par $(V,E)$ onde $V$ é um conjunto finito de vértices e $E$ uma relação binária em $V$, o conjunto de *arcos* ou *arestas* do grafo.\n",
    "\n",
    "Um grafo *não pesado* pode ser representado usando *listas de adjacências*. Em Python é\n",
    "possível implementar as ditas usando um dicionário de listas, onde a cada vértice temos associada a sua lista\n",
    "de adjacentes (vértices directamente ligados através de uma aresta).\n",
    "\n",
    "Se o grafo for também *não orientado* bastará desdobrar cada aresta em duas adjacências.\n",
    "\n",
    "Por exemplo, o grafo\n",
    "\n",
    "<img src=\"exemplo.png\" width=400/>\n",
    "\n",
    "pode ser armazenado no dicionário `graph` da seguinte forma."
   ]
  },
  {
   "cell_type": "code",
   "execution_count": 11,
   "metadata": {},
   "outputs": [],
   "source": [
    "graph = {'OPO': ['LIS', 'FAO', 'MAD', 'FRA'],\n",
    "         'LIS': ['OPO', 'FAO', 'LON', 'NRT', 'FRA'],\n",
    "         'FAO': ['OPO', 'LIS'],\n",
    "         'MAD': ['OPO'],\n",
    "         'LON': ['LIS', 'NRT', 'FRA'],\n",
    "         'FRA': ['OPO', 'LON', 'LIS'],\n",
    "         'NRT': ['LIS', 'LON']}"
   ]
  },
  {
   "cell_type": "markdown",
   "metadata": {},
   "source": [
    "### Exercício 1\n",
    "Defina uma função `count_edges` que conta o número de arestas de um grafo representado desta forma."
   ]
  },
  {
   "cell_type": "code",
   "execution_count": 6,
   "metadata": {},
   "outputs": [
    {
     "data": {
      "text/plain": [
       "10"
      ]
     },
     "execution_count": 6,
     "metadata": {},
     "output_type": "execute_result"
    }
   ],
   "source": [
    "def count_edges(g):\n",
    "    counter = 0\n",
    "    for k in g:\n",
    "        counter += len(g[k])\n",
    "    return counter//2\n",
    "\n",
    "count_edges(graph)"
   ]
  },
  {
   "cell_type": "markdown",
   "metadata": {},
   "source": [
    "Um grafo não orientado pode ser armazenado num ficheiro num formato de texto escrevendo um arco por linha da seguinte forma (conforme conteúdo do ficheiro `exemplo.txt`)."
   ]
  },
  {
   "cell_type": "markdown",
   "metadata": {},
   "source": [
    "```\n",
    "OPO LIS\n",
    "OPO FAO\n",
    "LIS FAO\n",
    "MAD OPO\n",
    "LIS LON\n",
    "FRA OPO\n",
    "LIS NRT\n",
    "LON NRT\n",
    "LON FRA\n",
    "LIS FRA\n",
    "```"
   ]
  },
  {
   "cell_type": "markdown",
   "metadata": {},
   "source": [
    "Para criar um grafo a partir de um ficheiro armazenado neste formato podemos usar a seguinte função."
   ]
  },
  {
   "cell_type": "code",
   "execution_count": 14,
   "metadata": {},
   "outputs": [
    {
     "data": {
      "text/plain": [
       "{'OPO': ['LIS', 'FAO', 'MAD', 'FRA'],\n",
       " 'LIS': ['OPO', 'FAO', 'LON', 'NRT', 'FRA'],\n",
       " 'FAO': ['OPO', 'LIS'],\n",
       " 'MAD': ['OPO'],\n",
       " 'LON': ['LIS', 'NRT', 'FRA'],\n",
       " 'FRA': ['OPO', 'LON', 'LIS'],\n",
       " 'NRT': ['LIS', 'LON']}"
      ]
     },
     "execution_count": 14,
     "metadata": {},
     "output_type": "execute_result"
    }
   ],
   "source": [
    "def parse(name):\n",
    "    file = open(name)\n",
    "    adj = {}\n",
    "    for l in file:\n",
    "        o,d = l.split()\n",
    "        if o not in adj:\n",
    "            adj[o] = []\n",
    "        if d not in adj:\n",
    "            adj[d] = []\n",
    "        adj[o].append(d)\n",
    "        adj[d].append(o)\n",
    "    return(adj)\n",
    "\n",
    "parse(\"exemplo.txt\")"
   ]
  },
  {
   "cell_type": "markdown",
   "metadata": {},
   "source": [
    "Existem muitos algoritmos para analisar grafos. Um exemplo, é o seguinte algoritmo que calcula a *distância* entre\n",
    "cada par de vértices de um grafo *não pesado*. A distância entre dois vértices é o comprimento do caminho mais curto\n",
    "entre eles. A função `all_pairs_shortest_paths` devolve todas as distâncias usando um dicionário de dicionários de \n",
    "distâncias (no fundo uma matriz de distâncias)."
   ]
  },
  {
   "cell_type": "code",
   "execution_count": 15,
   "metadata": {},
   "outputs": [
    {
     "data": {
      "text/plain": [
       "{'OPO': {'OPO': 0, 'LIS': 1, 'FAO': 1, 'MAD': 1, 'LON': 2, 'FRA': 1, 'NRT': 2},\n",
       " 'LIS': {'OPO': 1, 'LIS': 0, 'FAO': 1, 'MAD': 2, 'LON': 1, 'FRA': 1, 'NRT': 1},\n",
       " 'FAO': {'OPO': 1, 'LIS': 1, 'FAO': 0, 'MAD': 2, 'LON': 2, 'FRA': 2, 'NRT': 2},\n",
       " 'MAD': {'OPO': 1, 'LIS': 2, 'FAO': 2, 'MAD': 0, 'LON': 3, 'FRA': 2, 'NRT': 3},\n",
       " 'LON': {'OPO': 2, 'LIS': 1, 'FAO': 2, 'MAD': 3, 'LON': 0, 'FRA': 1, 'NRT': 1},\n",
       " 'FRA': {'OPO': 1, 'LIS': 1, 'FAO': 2, 'MAD': 2, 'LON': 1, 'FRA': 0, 'NRT': 2},\n",
       " 'NRT': {'OPO': 2, 'LIS': 1, 'FAO': 2, 'MAD': 3, 'LON': 1, 'FRA': 2, 'NRT': 0}}"
      ]
     },
     "execution_count": 15,
     "metadata": {},
     "output_type": "execute_result"
    }
   ],
   "source": [
    "def all_pairs_shortest_paths(adj):\n",
    "    dist = {}\n",
    "    for o in adj:\n",
    "        dist[o] = {}\n",
    "        for d in adj:\n",
    "            if o == d:\n",
    "                dist[o][d] = 0\n",
    "            else:\n",
    "                dist[o][d] = float(\"inf\")\n",
    "        for d in adj[o]:\n",
    "                dist[o][d] = 1\n",
    "    for k in adj:\n",
    "        for o in adj:\n",
    "            for d in adj:\n",
    "                if dist[o][d] > dist[o][k] + dist[k][d]:\n",
    "                    dist[o][d] = dist[o][k] + dist[k][d]\n",
    "    return dist\n",
    "\n",
    "all_pairs_shortest_paths(parse(\"exemplo.txt\"))"
   ]
  },
  {
   "cell_type": "markdown",
   "metadata": {},
   "source": [
    "### Exercício 2\n",
    "O *diâmetro* de um grafo é a distância entre os seus vértices mais afastados. Defina a função `diameter` que calcula o\n",
    "diâmetro de um grafo, tirando proveito da função `all_pairs_shortest_paths`."
   ]
  },
  {
   "cell_type": "code",
   "execution_count": 19,
   "metadata": {},
   "outputs": [
    {
     "data": {
      "text/plain": [
       "3"
      ]
     },
     "execution_count": 19,
     "metadata": {},
     "output_type": "execute_result"
    }
   ],
   "source": [
    "def diameter(adj):\n",
    "    dist = all_pairs_shortest_paths(adj)\n",
    "    diametro = 0\n",
    "    for k,v in dist.items():\n",
    "        for key,value in v.items():\n",
    "            diametro = max(value,diametro)\n",
    "    return diametro\n",
    "    \n",
    "diameter(parse(\"exemplo.txt\"))"
   ]
  },
  {
   "cell_type": "markdown",
   "metadata": {},
   "source": [
    "## Biblioteca `NetworkX` para manipulação de grafos."
   ]
  },
  {
   "cell_type": "markdown",
   "metadata": {},
   "source": [
    "A biblioteca `NetworkX` diponibiliza implementações de vários tipos de grafos e de muitos algoritmos para os analisar e visualizar. Para importar esta biblioteca de forma qualificada faz-se o seguinte."
   ]
  },
  {
   "cell_type": "code",
   "execution_count": 23,
   "metadata": {},
   "outputs": [],
   "source": [
    "import networkx as nx"
   ]
  },
  {
   "cell_type": "markdown",
   "metadata": {},
   "source": [
    "O tutorial desta biblioteca pode ser encontrado em https://networkx.github.io/documentation/stable/tutorial.html."
   ]
  },
  {
   "cell_type": "markdown",
   "metadata": {},
   "source": [
    "### Exercício 3\n",
    "Reimplemente a função `parse` passando a usar a implementação de grafos desta biblioteca em vez dos dicionários do python."
   ]
  },
  {
   "cell_type": "code",
   "execution_count": 25,
   "metadata": {},
   "outputs": [
    {
     "data": {
      "text/plain": [
       "{'OPO': ['LIS', 'FAO', 'MAD', 'FRA'],\n",
       " 'LIS': ['OPO', 'FAO', 'LON', 'NRT', 'FRA'],\n",
       " 'FAO': ['OPO', 'LIS'],\n",
       " 'MAD': ['OPO'],\n",
       " 'LON': ['LIS', 'NRT', 'FRA'],\n",
       " 'FRA': ['OPO', 'LON', 'LIS'],\n",
       " 'NRT': ['LIS', 'LON']}"
      ]
     },
     "execution_count": 25,
     "metadata": {},
     "output_type": "execute_result"
    }
   ],
   "source": [
    "def parse(name):\n",
    "    file = open(name)\n",
    "    g = nx.Graph()\n",
    "    \n",
    "    for l in file:\n",
    "        o,d  = l.split()\n",
    "        g.add_edge(o,d)\n",
    "    file.close()\n",
    "    return g\n",
    "graph = parse(\"exemplo.txt\")\n",
    "nx.to_dict_of_lists(graph) # converte o grafo para um dicionário de listas"
   ]
  },
  {
   "cell_type": "markdown",
   "metadata": {},
   "source": [
    "### Exercício 4\n",
    "Implemente outra versão da função `parse` usando directamente as funções disponibilizadas pelo `NetworkX` para leitura\n",
    "e escrita em ficheiro, conforme https://networkx.github.io/documentation/stable/reference/readwrite/index.html."
   ]
  },
  {
   "cell_type": "code",
   "execution_count": 26,
   "metadata": {},
   "outputs": [
    {
     "data": {
      "text/plain": [
       "{'OPO': ['LIS', 'FAO', 'MAD', 'FRA'],\n",
       " 'LIS': ['OPO', 'FAO', 'LON', 'NRT', 'FRA'],\n",
       " 'FAO': ['OPO', 'LIS'],\n",
       " 'MAD': ['OPO'],\n",
       " 'LON': ['LIS', 'NRT', 'FRA'],\n",
       " 'FRA': ['OPO', 'LON', 'LIS'],\n",
       " 'NRT': ['LIS', 'LON']}"
      ]
     },
     "execution_count": 26,
     "metadata": {},
     "output_type": "execute_result"
    }
   ],
   "source": [
    "def parse(name):\n",
    "    return nx.read_edgelist(name)\n",
    "        \n",
    "graph = parse(\"exemplo.txt\")\n",
    "nx.to_dict_of_lists(graph)"
   ]
  },
  {
   "cell_type": "markdown",
   "metadata": {},
   "source": [
    "Como referido acima, a vantagem de usar a biblioteca `NetworkX` é que os algoritmos de análise mais usais estão todos já implementados. Por exemplo, para calcular o diâmetro do grafo exemplo basta fazer o seguinte."
   ]
  },
  {
   "cell_type": "code",
   "execution_count": null,
   "metadata": {},
   "outputs": [],
   "source": [
    "nx.diameter(parse(\"exemplo.txt\"))"
   ]
  },
  {
   "cell_type": "markdown",
   "metadata": {},
   "source": [
    "### Exercício 5\n",
    "Utilize a bibliotecas `NetworkX` e `Matplotlib` para desenhar o grafo exemplo, conforme explicado em https://networkx.github.io/documentation/stable/tutorial.html#drawing-graphs."
   ]
  },
  {
   "cell_type": "code",
   "execution_count": 47,
   "metadata": {},
   "outputs": [
    {
     "data": {
      "image/png": "[encoded data removed]",
      "text/plain": [
       "<Figure size 432x288 with 1 Axes>"
      ]
     },
     "metadata": {},
     "output_type": "display_data"
    }
   ],
   "source": [
    "nx.draw(graph,with_labels = True, font_color = 'red', node_color = \"black\", node_size = 1000)"
   ]
  },
  {
   "cell_type": "markdown",
   "metadata": {},
   "source": [
    "### Exercício 6\n",
    "A biblioteca `NetworkX` disponibiliza também vários geradores de grafos pré-definidos, coforme documentação em https://networkx.github.io/documentation/stable/reference/generators.html.\n",
    "    Use esses geradores para criar um grafo degenerado que é um ciclo com 100 vértices. \n",
    "    Desenhe esse grafo e calcule o seu diâmetro \n",
    "    (que deverá ser 50)."
   ]
  },
  {
   "cell_type": "code",
   "execution_count": 53,
   "metadata": {},
   "outputs": [
    {
     "data": {
      "image/png": "[encoded data removed]",
      "text/plain": [
       "<Figure size 432x288 with 1 Axes>"
      ]
     },
     "metadata": {},
     "output_type": "display_data"
    }
   ],
   "source": [
    "g = nx.cycle_graph(100)\n",
    "nx.draw(g, node_size = 800, with_labels = True)"
   ]
  },
  {
   "cell_type": "code",
   "execution_count": 54,
   "metadata": {},
   "outputs": [
    {
     "data": {
      "text/plain": [
       "50"
      ]
     },
     "execution_count": 54,
     "metadata": {},
     "output_type": "execute_result"
    }
   ],
   "source": [
    "nx.diameter(g)"
   ]
  },
  {
   "cell_type": "code",
   "execution_count": null,
   "metadata": {},
   "outputs": [],
   "source": []
  }
 ],
 "metadata": {
  "kernelspec": {
   "display_name": "Python 3",
   "language": "python",
   "name": "python3"
  },
  "language_info": {
   "codemirror_mode": {
    "name": "ipython",
    "version": 3
   },
   "file_extension": ".py",
   "mimetype": "text/x-python",
   "name": "python",
   "nbconvert_exporter": "python",
   "pygments_lexer": "ipython3",
   "version": "3.8.3"
  }
 },
 "nbformat": 4,
 "nbformat_minor": 2
}
